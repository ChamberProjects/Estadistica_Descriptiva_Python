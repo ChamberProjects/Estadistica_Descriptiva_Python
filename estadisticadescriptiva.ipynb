{
 "cells": [
  {
   "cell_type": "code",
   "execution_count": 7,
   "id": "1fe841c7",
   "metadata": {},
   "outputs": [],
   "source": [
    "#Importacion de librerias\n",
    "import pandas as pd"
   ]
  },
  {
   "cell_type": "code",
   "execution_count": 9,
   "id": "b4b51cad",
   "metadata": {},
   "outputs": [],
   "source": [
    "#Conjunto de datos con personas que juegan videojuegos\n",
    "conjunto = {\n",
    "    \"nombre\": [\n",
    "        \"Camila González Muñoz\", \"Matías Rojas Díaz\", \"Javiera Pérez Soto\",\n",
    "        \"Benjamín Contreras Silva\", \"Fernanda Martínez Sepúlveda\", \"Cristóbal Díaz González\",\n",
    "        \"Antonia Soto Rojas\", \"Diego Silva Pérez\", \"Valentina Muñoz Contreras\",\n",
    "        \"Sebastián Sepúlveda Martínez\", \"Constanza González Rojas\", \"Tomás Muñoz Díaz\",\n",
    "        \"Daniela Pérez Soto\", \"Ignacio Contreras Silva\", \"Isidora Martínez Sepúlveda\",\n",
    "        \"Felipe Díaz González\", \"Catalina Soto Rojas\", \"Joaquín Silva Pérez\",\n",
    "        \"Francisca Muñoz Contreras\", \"Martín Sepúlveda Martínez\", \"Camila González Rojas\",\n",
    "        \"Benjamín Muñoz Díaz\", \"Javiera Pérez Soto\", \"Cristóbal Contreras Silva\",\n",
    "        \"Antonia Martínez Sepúlveda\", \"Diego Díaz González\", \"Valentina Soto Rojas\",\n",
    "        \"Sebastián Silva Pérez\", \"Daniela Muñoz Contreras\", \"Tomás Sepúlveda Martínez\"\n",
    "    ],\n",
    "    \"edad\": [\n",
    "        23, 25, 19, 30, 22, 24, 28, 27, 21, 26,\n",
    "        24, 22, 20, 33, 19, 29, 25, 23, 31, 27,\n",
    "        22, 24, 28, 26, 21, 23, 30, 25, 20, 29\n",
    "    ],\n",
    "    \"genero\": [\n",
    "        \"F\", \"M\", \"F\", \"M\", \"F\", \"M\", \"F\", \"M\", \"F\", \"M\",\n",
    "        \"F\", \"M\", \"F\", \"M\", \"F\", \"M\", \"F\", \"M\", \"F\", \"M\",\n",
    "        \"F\", \"M\", \"F\", \"M\", \"F\", \"M\", \"F\", \"M\", \"F\", \"M\"\n",
    "    ],\n",
    "    \"juega_videojuegos\": [\n",
    "        \"Sí\", \"Sí\", \"No\", \"Sí\", \"No\", \"Sí\", \"No\", \"Sí\", \"No\", \"Sí\",\n",
    "        \"Sí\", \"No\", \"Sí\", \"No\", \"Sí\", \"No\", \"Sí\", \"Sí\", \"No\", \"Sí\",\n",
    "        \"No\", \"Sí\", \"No\", \"Sí\", \"No\", \"Sí\", \"No\", \"Sí\", \"Sí\", \"No\"\n",
    "    ],\n",
    "    \"horas_por_semana\": [\n",
    "        6, 14, 0, 12, 0, 20, 0, 15, 0, 9,\n",
    "        7, 0, 13, 0, 11, 0, 8, 18, 0, 16,\n",
    "        0, 10, 0, 14, 0, 19, 0, 21, 13, 0\n",
    "    ],\n",
    "    \"ciudad\": [\n",
    "        \"Santiago\", \"Santiago\", \"Valparaíso\", \"Santiago\", \"Concepción\",\n",
    "        \"Santiago\", \"Valparaíso\", \"Santiago\", \"Concepción\", \"Santiago\",\n",
    "        \"Valparaíso\", \"Santiago\", \"Concepción\", \"Valparaíso\", \"Santiago\",\n",
    "        \"Concepción\", \"Santiago\", \"Valparaíso\", \"Santiago\", \"Concepción\",\n",
    "        \"Santiago\", \"Valparaíso\", \"Santiago\", \"Concepción\", \"Santiago\",\n",
    "        \"Valparaíso\", \"Concepción\", \"Santiago\", \"Valparaíso\", \"Santiago\"\n",
    "    ],\n",
    "    \"comuna\": [\n",
    "        \"Providencia\", \"Ñuñoa\", \"Valparaíso\", \"Las Condes\", \"Talcahuano\",\n",
    "        \"La Florida\", \"Viña del Mar\", \"Recoleta\", \"Hualpén\", \"Macul\",\n",
    "        \"Viña del Mar\", \"Santiago Centro\", \"Concepción\", \"Viña del Mar\", \"Ñuñoa\",\n",
    "        \"Hualpén\", \"Las Condes\", \"Viña del Mar\", \"Macul\", \"Concepción\",\n",
    "        \"La Florida\", \"Valparaíso\", \"Providencia\", \"Talcahuano\", \"Recoleta\",\n",
    "        \"Viña del Mar\", \"Hualpén\", \"Santiago Centro\", \"Valparaíso\", \"Ñuñoa\"\n",
    "    ],\n",
    "    \"region\": [\n",
    "        \"Metropolitana\", \"Metropolitana\", \"Valparaíso\", \"Metropolitana\", \"Biobío\",\n",
    "        \"Metropolitana\", \"Valparaíso\", \"Metropolitana\", \"Biobío\", \"Metropolitana\",\n",
    "        \"Valparaíso\", \"Metropolitana\", \"Biobío\", \"Valparaíso\", \"Metropolitana\",\n",
    "        \"Biobío\", \"Metropolitana\", \"Valparaíso\", \"Metropolitana\", \"Biobío\",\n",
    "        \"Metropolitana\", \"Valparaíso\", \"Metropolitana\", \"Biobío\", \"Metropolitana\",\n",
    "        \"Valparaíso\", \"Biobío\", \"Metropolitana\", \"Valparaíso\", \"Metropolitana\"\n",
    "    ]\n",
    "}"
   ]
  },
  {
   "cell_type": "code",
   "execution_count": 3,
   "id": "07805cdd",
   "metadata": {},
   "outputs": [],
   "source": [
    "df = pd.DataFrame(conjunto)"
   ]
  },
  {
   "cell_type": "code",
   "execution_count": 6,
   "id": "6b611733",
   "metadata": {},
   "outputs": [
    {
     "name": "stdout",
     "output_type": "stream",
     "text": [
      "                        nombre  edad genero juega_videojuegos  \\\n",
      "0        Camila González Muñoz    23      F                Sí   \n",
      "1            Matías Rojas Díaz    25      M                Sí   \n",
      "2           Javiera Pérez Soto    19      F                No   \n",
      "3     Benjamín Contreras Silva    30      M                Sí   \n",
      "4  Fernanda Martínez Sepúlveda    22      F                No   \n",
      "\n",
      "   horas_por_semana      ciudad       comuna         region  \n",
      "0                 6    Santiago  Providencia  Metropolitana  \n",
      "1                14    Santiago        Ñuñoa  Metropolitana  \n",
      "2                 0  Valparaíso   Valparaíso     Valparaíso  \n",
      "3                12    Santiago   Las Condes  Metropolitana  \n",
      "4                 0  Concepción   Talcahuano         Biobío  \n"
     ]
    }
   ],
   "source": [
    "# Primeros 5 Registros\n",
    "print(df.head(5)) "
   ]
  },
  {
   "cell_type": "code",
   "execution_count": 51,
   "id": "6d4c75bb",
   "metadata": {},
   "outputs": [
    {
     "name": "stdout",
     "output_type": "stream",
     "text": [
      "la edad minima :  19\n"
     ]
    }
   ],
   "source": [
    "# edad minima\n",
    "df_edad_minima = df[\"edad\"].min()\n",
    "print(\"la edad minima : \",df_edad_minima)"
   ]
  },
  {
   "cell_type": "code",
   "execution_count": 52,
   "id": "08b83809",
   "metadata": {},
   "outputs": [
    {
     "name": "stdout",
     "output_type": "stream",
     "text": [
      "la edad maxima :  33\n"
     ]
    }
   ],
   "source": [
    "df_edad_maxima = df[\"edad\"].max()\n",
    "print(\"la edad maxima : \",df_edad_maxima)"
   ]
  },
  {
   "cell_type": "code",
   "execution_count": 25,
   "id": "a8d879d6",
   "metadata": {},
   "outputs": [
    {
     "name": "stdout",
     "output_type": "stream",
     "text": [
      "El promedio de edad es de : 24.87\n"
     ]
    }
   ],
   "source": [
    "# media de edad\n",
    "df_edad_media = df[\"edad\"].mean()\n",
    "print(f\"El promedio de edad es de : {df_edad_media:.2f}\")"
   ]
  },
  {
   "cell_type": "code",
   "execution_count": 18,
   "id": "c33412cf",
   "metadata": {},
   "outputs": [
    {
     "name": "stdout",
     "output_type": "stream",
     "text": [
      "La edad que mas se repite es :  [22, 23, 24, 25]\n"
     ]
    }
   ],
   "source": [
    "# moda de la edad\n",
    "df_edad_moda = df[\"edad\"].mode().to_list()\n",
    "print(\"La edad que mas se repite es : \", df_edad_moda)"
   ]
  },
  {
   "cell_type": "code",
   "execution_count": 26,
   "id": "9c655651",
   "metadata": {},
   "outputs": [
    {
     "name": "stdout",
     "output_type": "stream",
     "text": [
      "el valor medio que el orden de menor a mayor es : 24.5\n"
     ]
    }
   ],
   "source": [
    "# mediana de la edad\n",
    "df_edad_mediana = df[\"edad\"].median()\n",
    "print(f\"el valor medio que el orden de menor a mayor es : {df_edad_mediana}\")"
   ]
  },
  {
   "cell_type": "code",
   "execution_count": 24,
   "id": "d54e20f5",
   "metadata": {},
   "outputs": [
    {
     "name": "stdout",
     "output_type": "stream",
     "text": [
      "distribucion de horas de juego : 56.19\n"
     ]
    }
   ],
   "source": [
    "# varianza de las horas de juego\n",
    "df_horas_varianza = df[\"horas_por_semana\"].var()\n",
    "print(f\"distribucion de horas de juego : {df_horas_varianza:.2f}\")"
   ]
  },
  {
   "cell_type": "code",
   "execution_count": 27,
   "id": "cd2c22d5",
   "metadata": {},
   "outputs": [
    {
     "name": "stdout",
     "output_type": "stream",
     "text": [
      "la disttribucion del promedio de horas de juego: 7.50\n"
     ]
    }
   ],
   "source": [
    "# desviacion estandar de horas de juego\n",
    "df_horas_desviacion = df[\"horas_por_semana\"].std()\n",
    "print(f\"la disttribucion del promedio de horas de juego: {df_horas_desviacion:.2f}\")"
   ]
  },
  {
   "cell_type": "markdown",
   "id": "0f29697b",
   "metadata": {},
   "source": [
    "%variables cualitativas%\n",
    "genero / juega_videojuegos / ciudad / comuna /region"
   ]
  },
  {
   "cell_type": "code",
   "execution_count": 77,
   "id": "ddb07800",
   "metadata": {},
   "outputs": [
    {
     "name": "stdout",
     "output_type": "stream",
     "text": [
      "Frecuencia 'juega videojuegos':\n",
      " juega_videojuegos\n",
      "Sí    17\n",
      "No    13\n",
      "Name: count, dtype: int64\n"
     ]
    }
   ],
   "source": [
    "#frecuencia de personas que juegan si / no\n",
    "frecuencia_jugar = df[\"juega_videojuegos\"].value_counts()\n",
    "print(\"Frecuencia 'juega videojuegos':\\n\", frecuencia_jugar)"
   ]
  },
  {
   "cell_type": "code",
   "execution_count": 78,
   "id": "9846f20e",
   "metadata": {},
   "outputs": [
    {
     "data": {
      "image/png": "[encoded data removed]",
      "text/plain": [
       "<Figure size 640x480 with 1 Axes>"
      ]
     },
     "metadata": {},
     "output_type": "display_data"
    }
   ],
   "source": [
    "#Grafico categorico para medir la cantidad de personas que juegan\n",
    "import matplotlib.pyplot as plt\n",
    "\n",
    "# Obtener las\n",
    "frecuencia_jugar = df[\"juega_videojuegos\"].value_counts()\n",
    "\n",
    "\n",
    "frecuencia_jugar.plot(kind='bar', color=['tab:blue', 'tab:blue'])\n",
    "\n",
    "plt.title(\"Distribucion de  personas que juegan si / no\")\n",
    "plt.xlabel(\"Si / No\")\n",
    "plt.ylabel(\"Cantidad de personas\")\n",
    "plt.tight_layout()\n",
    "plt.show()\n"
   ]
  },
  {
   "cell_type": "markdown",
   "id": "a5831e49",
   "metadata": {},
   "source": [
    "%cualitativas%\n",
    "horas_de_juego / edad"
   ]
  },
  {
   "cell_type": "code",
   "execution_count": 79,
   "id": "1bd7a9e4",
   "metadata": {},
   "outputs": [
    {
     "name": "stdout",
     "output_type": "stream",
     "text": [
      "Frecuencia relativa horas_por_semana (agrupada, %):\n",
      " horas_por_semana\n",
      "0        43.33\n",
      "1-5       0.00\n",
      "6-10     16.67\n",
      "11-15    23.33\n",
      "16-20    13.33\n",
      "21-25     3.33\n",
      "Name: proportion, dtype: float64\n"
     ]
    }
   ],
   "source": [
    "\n",
    "horas = pd.cut(df[\"horas_por_semana\"], bins=[-1, 0, 5, 10, 15, 20, 25], labels=[\"0\", \"1-5\", \"6-10\", \"11-15\", \"16-20\", \"21-25\"])\n",
    "frecuencia_horas = horas.value_counts(normalize=True).sort_index() * 100\n",
    "print(\"Frecuencia relativa horas_por_semana (agrupada, %):\\n\", frecuencia_horas.round(2))\n"
   ]
  },
  {
   "cell_type": "code",
   "execution_count": 86,
   "id": "d1551bff",
   "metadata": {},
   "outputs": [
    {
     "data": {
      "image/png": "[encoded data removed]",
      "text/plain": [
       "<Figure size 800x500 with 1 Axes>"
      ]
     },
     "metadata": {},
     "output_type": "display_data"
    }
   ],
   "source": [
    "import matplotlib.pyplot as plt\n",
    "\n",
    "\n",
    "frecuencia_horas = horas.value_counts(normalize=True).sort_index() * 100\n",
    "\n",
    "# Graficar\n",
    "plt.figure(figsize=(8,5))\n",
    "frecuencia_horas.plot(kind='pie', color='tab:blue', autopct='%1.1f%%')\n",
    "\n",
    "plt.title(\"Frecuencia de horas de juego\")\n",
    "plt.xlabel(\"Intervalos de horas de juego por semana\")\n",
    "plt.ylabel(\"Intervalos de horas de juego por semana\")\n",
    "plt.show()\n"
   ]
  },
  {
   "cell_type": "markdown",
   "id": "00ceb333",
   "metadata": {},
   "source": []
  }
 ],
 "metadata": {
  "kernelspec": {
   "display_name": "descriptiva",
   "language": "python",
   "name": "python3"
  },
  "language_info": {
   "codemirror_mode": {
    "name": "ipython",
    "version": 3
   },
   "file_extension": ".py",
   "mimetype": "text/x-python",
   "name": "python",
   "nbconvert_exporter": "python",
   "pygments_lexer": "ipython3",
   "version": "3.13.5"
  }
 },
 "nbformat": 4,
 "nbformat_minor": 5
}
